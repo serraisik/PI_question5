{
 "cells": [
  {
   "cell_type": "code",
   "execution_count": 1,
   "id": "cbefd32a",
   "metadata": {},
   "outputs": [],
   "source": [
    "import pandas as pd\n",
    "import numpy as np\n",
    "import matplotlib.pyplot as plt\n",
    "%matplotlib inline"
   ]
  },
  {
   "cell_type": "code",
   "execution_count": 2,
   "id": "e2569b34",
   "metadata": {},
   "outputs": [],
   "source": [
    "import requests\n",
    "from io import BytesIO\n",
    "import numpy as np\n",
    "import pandas as pd"
   ]
  },
  {
   "cell_type": "code",
   "execution_count": 3,
   "id": "6a3b6557",
   "metadata": {},
   "outputs": [],
   "source": [
    "url = \"https://www.piworks.net/Upload/Document/Original/country_vaccination_stats.csv\"\n",
    "r = requests.get(url)"
   ]
  },
  {
   "cell_type": "code",
   "execution_count": 4,
   "id": "d937938d",
   "metadata": {},
   "outputs": [],
   "source": [
    "df_real = pd.read_csv(BytesIO(r.content))"
   ]
  },
  {
   "cell_type": "code",
   "execution_count": 5,
   "id": "983555f9",
   "metadata": {},
   "outputs": [
    {
     "data": {
      "text/html": [
       "<div>\n",
       "<style scoped>\n",
       "    .dataframe tbody tr th:only-of-type {\n",
       "        vertical-align: middle;\n",
       "    }\n",
       "\n",
       "    .dataframe tbody tr th {\n",
       "        vertical-align: top;\n",
       "    }\n",
       "\n",
       "    .dataframe thead th {\n",
       "        text-align: right;\n",
       "    }\n",
       "</style>\n",
       "<table border=\"1\" class=\"dataframe\">\n",
       "  <thead>\n",
       "    <tr style=\"text-align: right;\">\n",
       "      <th></th>\n",
       "      <th>country</th>\n",
       "      <th>date</th>\n",
       "      <th>daily_vaccinations</th>\n",
       "      <th>vaccines</th>\n",
       "    </tr>\n",
       "  </thead>\n",
       "  <tbody>\n",
       "    <tr>\n",
       "      <th>0</th>\n",
       "      <td>Argentina</td>\n",
       "      <td>12/29/2020</td>\n",
       "      <td>NaN</td>\n",
       "      <td>Sputnik V</td>\n",
       "    </tr>\n",
       "    <tr>\n",
       "      <th>1</th>\n",
       "      <td>Argentina</td>\n",
       "      <td>12/30/2020</td>\n",
       "      <td>15656.0</td>\n",
       "      <td>Sputnik V</td>\n",
       "    </tr>\n",
       "    <tr>\n",
       "      <th>2</th>\n",
       "      <td>Argentina</td>\n",
       "      <td>12/31/2020</td>\n",
       "      <td>15656.0</td>\n",
       "      <td>Sputnik V</td>\n",
       "    </tr>\n",
       "    <tr>\n",
       "      <th>3</th>\n",
       "      <td>Argentina</td>\n",
       "      <td>1/1/2021</td>\n",
       "      <td>11070.0</td>\n",
       "      <td>Sputnik V</td>\n",
       "    </tr>\n",
       "    <tr>\n",
       "      <th>4</th>\n",
       "      <td>Argentina</td>\n",
       "      <td>1/2/2021</td>\n",
       "      <td>8776.0</td>\n",
       "      <td>Sputnik V</td>\n",
       "    </tr>\n",
       "    <tr>\n",
       "      <th>...</th>\n",
       "      <td>...</td>\n",
       "      <td>...</td>\n",
       "      <td>...</td>\n",
       "      <td>...</td>\n",
       "    </tr>\n",
       "    <tr>\n",
       "      <th>1497</th>\n",
       "      <td>Wales</td>\n",
       "      <td>1/20/2021</td>\n",
       "      <td>11105.0</td>\n",
       "      <td>Oxford/AstraZeneca, Pfizer/BioNTech</td>\n",
       "    </tr>\n",
       "    <tr>\n",
       "      <th>1498</th>\n",
       "      <td>Wales</td>\n",
       "      <td>1/21/2021</td>\n",
       "      <td>12318.0</td>\n",
       "      <td>Oxford/AstraZeneca, Pfizer/BioNTech</td>\n",
       "    </tr>\n",
       "    <tr>\n",
       "      <th>1499</th>\n",
       "      <td>Wales</td>\n",
       "      <td>1/22/2021</td>\n",
       "      <td>15148.0</td>\n",
       "      <td>Oxford/AstraZeneca, Pfizer/BioNTech</td>\n",
       "    </tr>\n",
       "    <tr>\n",
       "      <th>1500</th>\n",
       "      <td>Wales</td>\n",
       "      <td>1/23/2021</td>\n",
       "      <td>17371.0</td>\n",
       "      <td>Oxford/AstraZeneca, Pfizer/BioNTech</td>\n",
       "    </tr>\n",
       "    <tr>\n",
       "      <th>1501</th>\n",
       "      <td>Wales</td>\n",
       "      <td>1/24/2021</td>\n",
       "      <td>17063.0</td>\n",
       "      <td>Oxford/AstraZeneca, Pfizer/BioNTech</td>\n",
       "    </tr>\n",
       "  </tbody>\n",
       "</table>\n",
       "<p>1502 rows × 4 columns</p>\n",
       "</div>"
      ],
      "text/plain": [
       "        country        date  daily_vaccinations  \\\n",
       "0     Argentina  12/29/2020                 NaN   \n",
       "1     Argentina  12/30/2020             15656.0   \n",
       "2     Argentina  12/31/2020             15656.0   \n",
       "3     Argentina    1/1/2021             11070.0   \n",
       "4     Argentina    1/2/2021              8776.0   \n",
       "...         ...         ...                 ...   \n",
       "1497      Wales   1/20/2021             11105.0   \n",
       "1498      Wales   1/21/2021             12318.0   \n",
       "1499      Wales   1/22/2021             15148.0   \n",
       "1500      Wales   1/23/2021             17371.0   \n",
       "1501      Wales   1/24/2021             17063.0   \n",
       "\n",
       "                                 vaccines  \n",
       "0                               Sputnik V  \n",
       "1                               Sputnik V  \n",
       "2                               Sputnik V  \n",
       "3                               Sputnik V  \n",
       "4                               Sputnik V  \n",
       "...                                   ...  \n",
       "1497  Oxford/AstraZeneca, Pfizer/BioNTech  \n",
       "1498  Oxford/AstraZeneca, Pfizer/BioNTech  \n",
       "1499  Oxford/AstraZeneca, Pfizer/BioNTech  \n",
       "1500  Oxford/AstraZeneca, Pfizer/BioNTech  \n",
       "1501  Oxford/AstraZeneca, Pfizer/BioNTech  \n",
       "\n",
       "[1502 rows x 4 columns]"
      ]
     },
     "execution_count": 5,
     "metadata": {},
     "output_type": "execute_result"
    }
   ],
   "source": [
    "df_real"
   ]
  },
  {
   "cell_type": "code",
   "execution_count": 6,
   "id": "ffab5afa",
   "metadata": {
    "scrolled": false
   },
   "outputs": [
    {
     "name": "stdout",
     "output_type": "stream",
     "text": [
      "<class 'pandas.core.frame.DataFrame'>\n",
      "RangeIndex: 1502 entries, 0 to 1501\n",
      "Data columns (total 4 columns):\n",
      " #   Column              Non-Null Count  Dtype  \n",
      "---  ------              --------------  -----  \n",
      " 0   country             1502 non-null   object \n",
      " 1   date                1502 non-null   object \n",
      " 2   daily_vaccinations  1442 non-null   float64\n",
      " 3   vaccines            1502 non-null   object \n",
      "dtypes: float64(1), object(3)\n",
      "memory usage: 47.1+ KB\n"
     ]
    }
   ],
   "source": [
    "df_real.info()"
   ]
  },
  {
   "cell_type": "code",
   "execution_count": 7,
   "id": "69eccc89",
   "metadata": {},
   "outputs": [],
   "source": [
    "df = df_real.copy()"
   ]
  },
  {
   "cell_type": "code",
   "execution_count": 8,
   "id": "dd67a72b",
   "metadata": {},
   "outputs": [],
   "source": [
    "country_list = df.country.unique()"
   ]
  },
  {
   "cell_type": "code",
   "execution_count": 9,
   "id": "68458522",
   "metadata": {},
   "outputs": [],
   "source": [
    "country_min_dict = dict()\n",
    "for c in country_list:\n",
    "    cur_df = df[df.country==c]\n",
    "    the_min = cur_df.daily_vaccinations.min()\n",
    "    the_min = the_min if not np.isnan(the_min) else 0\n",
    "    country_min_dict[c] = the_min"
   ]
  },
  {
   "cell_type": "code",
   "execution_count": 10,
   "id": "5f944b51",
   "metadata": {
    "scrolled": true
   },
   "outputs": [
    {
     "data": {
      "text/plain": [
       "{'Argentina': 6483.0,\n",
       " 'Austria': 3368.0,\n",
       " 'Bahrain': 943.0,\n",
       " 'Belgium': 1.0,\n",
       " 'Brazil': 112.0,\n",
       " 'Bulgaria': 472.0,\n",
       " 'Canada': 866.0,\n",
       " 'Chile': 51.0,\n",
       " 'China': 187500.0,\n",
       " 'Costa Rica': 240.0,\n",
       " 'Croatia': 989.0,\n",
       " 'Cyprus': 534.0,\n",
       " 'Czechia': 1822.0,\n",
       " 'Denmark': 1994.0,\n",
       " 'Ecuador': 108.0,\n",
       " 'England': 37625.0,\n",
       " 'Estonia': 309.0,\n",
       " 'Finland': 459.0,\n",
       " 'France': 5000.0,\n",
       " 'Germany': 19721.0,\n",
       " 'Gibraltar': 520.0,\n",
       " 'Greece': 549.0,\n",
       " 'Hungary': 1339.0,\n",
       " 'Iceland': 63.0,\n",
       " 'India': 112150.0,\n",
       " 'Indonesia': 11823.0,\n",
       " 'Ireland': 550.0,\n",
       " 'Isle of Man': 90.0,\n",
       " 'Israel': 6887.0,\n",
       " 'Italy': 926.0,\n",
       " 'Kuwait': 0,\n",
       " 'Latvia': 338.0,\n",
       " 'Lithuania': 311.0,\n",
       " 'Luxembourg': 62.0,\n",
       " 'Malta': 259.0,\n",
       " 'Mexico': 1300.0,\n",
       " 'Netherlands': 4000.0,\n",
       " 'Northern Ireland': 1563.0,\n",
       " 'Norway': 224.0,\n",
       " 'Oman': 817.0,\n",
       " 'Panama': 6.0,\n",
       " 'Poland': 4300.0,\n",
       " 'Portugal': 2791.0,\n",
       " 'Romania': 712.0,\n",
       " 'Russia': 3357.0,\n",
       " 'Saudi Arabia': 14153.0,\n",
       " 'Scotland': 3047.0,\n",
       " 'Serbia': 1150.0,\n",
       " 'Seychelles': 500.0,\n",
       " 'Singapore': 2800.0,\n",
       " 'Slovakia': 425.0,\n",
       " 'Slovenia': 1270.0,\n",
       " 'Spain': 41496.0,\n",
       " 'Sweden': 3859.0,\n",
       " 'Switzerland': 3000.0,\n",
       " 'Turkey': 67192.0,\n",
       " 'United Arab Emirates': 30698.0,\n",
       " 'United Kingdom': 46423.0,\n",
       " 'United States': 57909.0,\n",
       " 'Wales': 1763.0}"
      ]
     },
     "execution_count": 10,
     "metadata": {},
     "output_type": "execute_result"
    }
   ],
   "source": [
    "country_min_dict"
   ]
  },
  {
   "cell_type": "code",
   "execution_count": 16,
   "id": "e7d1c94f",
   "metadata": {},
   "outputs": [],
   "source": [
    "nan_df = df[np.isnan(df.daily_vaccinations.values)]\n"
   ]
  },
  {
   "cell_type": "code",
   "execution_count": 12,
   "id": "af1fd4bb",
   "metadata": {},
   "outputs": [],
   "source": [
    "nan_idx = nan_df.index.values"
   ]
  },
  {
   "cell_type": "code",
   "execution_count": 13,
   "id": "3171d7d7",
   "metadata": {},
   "outputs": [],
   "source": [
    "for idx,c in enumerate(nan_df.country):\n",
    "    row = nan_idx[idx]\n",
    "    df.at[row, \"daily_vaccinations\"] = country_min_dict[c]"
   ]
  },
  {
   "cell_type": "code",
   "execution_count": 14,
   "id": "43908432",
   "metadata": {},
   "outputs": [
    {
     "name": "stdout",
     "output_type": "stream",
     "text": [
      "<class 'pandas.core.frame.DataFrame'>\n",
      "RangeIndex: 1502 entries, 0 to 1501\n",
      "Data columns (total 4 columns):\n",
      " #   Column              Non-Null Count  Dtype  \n",
      "---  ------              --------------  -----  \n",
      " 0   country             1502 non-null   object \n",
      " 1   date                1502 non-null   object \n",
      " 2   daily_vaccinations  1502 non-null   float64\n",
      " 3   vaccines            1502 non-null   object \n",
      "dtypes: float64(1), object(3)\n",
      "memory usage: 47.1+ KB\n"
     ]
    }
   ],
   "source": [
    "df.info()"
   ]
  },
  {
   "cell_type": "code",
   "execution_count": 15,
   "id": "4ca9643c",
   "metadata": {},
   "outputs": [
    {
     "data": {
      "text/html": [
       "<div>\n",
       "<style scoped>\n",
       "    .dataframe tbody tr th:only-of-type {\n",
       "        vertical-align: middle;\n",
       "    }\n",
       "\n",
       "    .dataframe tbody tr th {\n",
       "        vertical-align: top;\n",
       "    }\n",
       "\n",
       "    .dataframe thead th {\n",
       "        text-align: right;\n",
       "    }\n",
       "</style>\n",
       "<table border=\"1\" class=\"dataframe\">\n",
       "  <thead>\n",
       "    <tr style=\"text-align: right;\">\n",
       "      <th></th>\n",
       "      <th>country</th>\n",
       "      <th>date</th>\n",
       "      <th>daily_vaccinations</th>\n",
       "      <th>vaccines</th>\n",
       "    </tr>\n",
       "  </thead>\n",
       "  <tbody>\n",
       "    <tr>\n",
       "      <th>0</th>\n",
       "      <td>Argentina</td>\n",
       "      <td>12/29/2020</td>\n",
       "      <td>6483.0</td>\n",
       "      <td>Sputnik V</td>\n",
       "    </tr>\n",
       "    <tr>\n",
       "      <th>1</th>\n",
       "      <td>Argentina</td>\n",
       "      <td>12/30/2020</td>\n",
       "      <td>15656.0</td>\n",
       "      <td>Sputnik V</td>\n",
       "    </tr>\n",
       "    <tr>\n",
       "      <th>2</th>\n",
       "      <td>Argentina</td>\n",
       "      <td>12/31/2020</td>\n",
       "      <td>15656.0</td>\n",
       "      <td>Sputnik V</td>\n",
       "    </tr>\n",
       "    <tr>\n",
       "      <th>3</th>\n",
       "      <td>Argentina</td>\n",
       "      <td>1/1/2021</td>\n",
       "      <td>11070.0</td>\n",
       "      <td>Sputnik V</td>\n",
       "    </tr>\n",
       "    <tr>\n",
       "      <th>4</th>\n",
       "      <td>Argentina</td>\n",
       "      <td>1/2/2021</td>\n",
       "      <td>8776.0</td>\n",
       "      <td>Sputnik V</td>\n",
       "    </tr>\n",
       "    <tr>\n",
       "      <th>...</th>\n",
       "      <td>...</td>\n",
       "      <td>...</td>\n",
       "      <td>...</td>\n",
       "      <td>...</td>\n",
       "    </tr>\n",
       "    <tr>\n",
       "      <th>1497</th>\n",
       "      <td>Wales</td>\n",
       "      <td>1/20/2021</td>\n",
       "      <td>11105.0</td>\n",
       "      <td>Oxford/AstraZeneca, Pfizer/BioNTech</td>\n",
       "    </tr>\n",
       "    <tr>\n",
       "      <th>1498</th>\n",
       "      <td>Wales</td>\n",
       "      <td>1/21/2021</td>\n",
       "      <td>12318.0</td>\n",
       "      <td>Oxford/AstraZeneca, Pfizer/BioNTech</td>\n",
       "    </tr>\n",
       "    <tr>\n",
       "      <th>1499</th>\n",
       "      <td>Wales</td>\n",
       "      <td>1/22/2021</td>\n",
       "      <td>15148.0</td>\n",
       "      <td>Oxford/AstraZeneca, Pfizer/BioNTech</td>\n",
       "    </tr>\n",
       "    <tr>\n",
       "      <th>1500</th>\n",
       "      <td>Wales</td>\n",
       "      <td>1/23/2021</td>\n",
       "      <td>17371.0</td>\n",
       "      <td>Oxford/AstraZeneca, Pfizer/BioNTech</td>\n",
       "    </tr>\n",
       "    <tr>\n",
       "      <th>1501</th>\n",
       "      <td>Wales</td>\n",
       "      <td>1/24/2021</td>\n",
       "      <td>17063.0</td>\n",
       "      <td>Oxford/AstraZeneca, Pfizer/BioNTech</td>\n",
       "    </tr>\n",
       "  </tbody>\n",
       "</table>\n",
       "<p>1502 rows × 4 columns</p>\n",
       "</div>"
      ],
      "text/plain": [
       "        country        date  daily_vaccinations  \\\n",
       "0     Argentina  12/29/2020              6483.0   \n",
       "1     Argentina  12/30/2020             15656.0   \n",
       "2     Argentina  12/31/2020             15656.0   \n",
       "3     Argentina    1/1/2021             11070.0   \n",
       "4     Argentina    1/2/2021              8776.0   \n",
       "...         ...         ...                 ...   \n",
       "1497      Wales   1/20/2021             11105.0   \n",
       "1498      Wales   1/21/2021             12318.0   \n",
       "1499      Wales   1/22/2021             15148.0   \n",
       "1500      Wales   1/23/2021             17371.0   \n",
       "1501      Wales   1/24/2021             17063.0   \n",
       "\n",
       "                                 vaccines  \n",
       "0                               Sputnik V  \n",
       "1                               Sputnik V  \n",
       "2                               Sputnik V  \n",
       "3                               Sputnik V  \n",
       "4                               Sputnik V  \n",
       "...                                   ...  \n",
       "1497  Oxford/AstraZeneca, Pfizer/BioNTech  \n",
       "1498  Oxford/AstraZeneca, Pfizer/BioNTech  \n",
       "1499  Oxford/AstraZeneca, Pfizer/BioNTech  \n",
       "1500  Oxford/AstraZeneca, Pfizer/BioNTech  \n",
       "1501  Oxford/AstraZeneca, Pfizer/BioNTech  \n",
       "\n",
       "[1502 rows x 4 columns]"
      ]
     },
     "execution_count": 15,
     "metadata": {},
     "output_type": "execute_result"
    }
   ],
   "source": [
    "df"
   ]
  },
  {
   "cell_type": "markdown",
   "id": "aa4d3d8b",
   "metadata": {},
   "source": [
    "## Top 3 Median"
   ]
  },
  {
   "cell_type": "code",
   "execution_count": 37,
   "id": "0465c203",
   "metadata": {},
   "outputs": [
    {
     "data": {
      "text/plain": [
       "['United States', 'China', 'India']"
      ]
     },
     "execution_count": 37,
     "metadata": {},
     "output_type": "execute_result"
    }
   ],
   "source": [
    "medians = []\n",
    "top_c = [\"\", \"\", \"\"]\n",
    "top_m = [0, 0, 0]\n",
    "min_m = 0\n",
    "for c in country_list:\n",
    "    median = df[df.country==c].daily_vaccinations.median()\n",
    "    medians.append(median)\n",
    "    if min_m < median:\n",
    "        ind = top_m.index(min_m)\n",
    "        top_m[ind] = median\n",
    "        top_c[ind] = c\n",
    "        min_m = min(top_m)\n",
    "\n",
    "print(top_c)"
   ]
  },
  {
   "cell_type": "code",
   "execution_count": null,
   "id": "2e107089",
   "metadata": {},
   "outputs": [],
   "source": []
  },
  {
   "cell_type": "code",
   "execution_count": null,
   "id": "6ee5ec55",
   "metadata": {},
   "outputs": [],
   "source": []
  }
 ],
 "metadata": {
  "kernelspec": {
   "display_name": "Python 3 (ipykernel)",
   "language": "python",
   "name": "python3"
  },
  "language_info": {
   "codemirror_mode": {
    "name": "ipython",
    "version": 3
   },
   "file_extension": ".py",
   "mimetype": "text/x-python",
   "name": "python",
   "nbconvert_exporter": "python",
   "pygments_lexer": "ipython3",
   "version": "3.8.3"
  }
 },
 "nbformat": 4,
 "nbformat_minor": 5
}
